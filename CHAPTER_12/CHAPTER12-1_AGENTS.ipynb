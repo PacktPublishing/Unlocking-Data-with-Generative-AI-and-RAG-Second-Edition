{
 "cells": [
  {
   "cell_type": "code",
   "execution_count": null,
   "id": "2d124d22-de73-436b-86cd-9b162b469be8",
   "metadata": {
    "id": "2d124d22-de73-436b-86cd-9b162b469be8"
   },
   "outputs": [],
   "source": [
    "%pip install langchain_community\n",
    "%pip install langchain_text_splitters\n",
    "%pip install langchain-openai\n",
    "%pip install langchainhub\n",
    "%pip install chromadb\n",
    "%pip install langchain\n",
    "%pip install python-dotenv\n",
    "%pip install PyPDF2 -q --user\n",
    "%pip install rank_bm25\n",
    "%pip install langchain_core\n",
    "\n",
    "# new agent-related installs\n",
    "%pip install tiktoken\n",
    "%pip install langgraph"
   ]
  },
  {
   "cell_type": "code",
   "execution_count": null,
   "id": "f884314f-870c-4bfb-b6c1-a5b4801ec172",
   "metadata": {
    "executionInfo": {
     "elapsed": 7390,
     "status": "ok",
     "timestamp": 1715455737041,
     "user": {
      "displayName": "",
      "userId": ""
     },
     "user_tz": 240
    },
    "id": "f884314f-870c-4bfb-b6c1-a5b4801ec172"
   },
   "outputs": [
    {
     "name": "stderr",
     "output_type": "stream",
     "text": [
      "/opt/conda/lib/python3.11/site-packages/tqdm/auto.py:21: TqdmWarning: IProgress not found. Please update jupyter and ipywidgets. See https://ipywidgets.readthedocs.io/en/stable/user_install.html\n",
      "  from .autonotebook import tqdm as notebook_tqdm\n"
     ]
    }
   ],
   "source": [
    "import os\n",
    "import openai\n",
    "from langchain_openai import ChatOpenAI, OpenAIEmbeddings\n",
    "from langchain import hub\n",
    "from langchain_core.output_parsers import StrOutputParser\n",
    "from langchain_core.runnables import RunnablePassthrough\n",
    "import chromadb\n",
    "from langchain_community.vectorstores import Chroma\n",
    "from langchain_core.runnables import RunnableParallel\n",
    "from dotenv import load_dotenv, find_dotenv\n",
    "from langchain_core.prompts import PromptTemplate\n",
    "from PyPDF2 import PdfReader\n",
    "from langchain_text_splitters import RecursiveCharacterTextSplitter\n",
    "from langchain.docstore.document import Document\n",
    "from langchain_community.retrievers import BM25Retriever\n",
    "from langchain.retrievers import EnsembleRetriever"
   ]
  },
  {
   "cell_type": "code",
   "execution_count": null,
   "id": "eba3468a-d7c2-4a79-8df2-c335542950f2",
   "metadata": {
    "executionInfo": {
     "elapsed": 5,
     "status": "ok",
     "timestamp": 1715455737042,
     "user": {
      "displayName": "",
      "userId": ""
     },
     "user_tz": 240
    },
    "id": "eba3468a-d7c2-4a79-8df2-c335542950f2"
   },
   "outputs": [],
   "source": [
    "# variables\n",
    "_ = load_dotenv(dotenv_path='env.txt')\n",
    "os.environ['OPENAI_API_KEY'] = os.getenv('OPENAI_API_KEY')\n",
    "openai.api_key = os.environ['OPENAI_API_KEY']\n",
    "llm = ChatOpenAI(model_name=\"gpt-4o\", temperature=0, streaming=True)\n",
    "agent_llm = ChatOpenAI(model_name=\"gpt-4o-mini\", temperature=0, streaming=True)\n",
    "embedding_function = OpenAIEmbeddings()\n",
    "pdf_path = \"google-2023-environmental-report.pdf\"\n",
    "collection_name = \"google_environmental_report\"\n",
    "str_output_parser = StrOutputParser()\n",
    "user_query = \"What are Google's environmental initiatives?\""
   ]
  },
  {
   "cell_type": "code",
   "execution_count": 5,
   "id": "d3ad428a-3eb6-40ec-a1a5-62565ead1e5b",
   "metadata": {
    "id": "d3ad428a-3eb6-40ec-a1a5-62565ead1e5b"
   },
   "outputs": [],
   "source": [
    "#### INDEXING ####"
   ]
  },
  {
   "cell_type": "code",
   "execution_count": 6,
   "id": "98ccda2c-0f4c-41c5-804d-2227cdf35aa7",
   "metadata": {
    "executionInfo": {
     "elapsed": 19512,
     "status": "ok",
     "timestamp": 1715455756551,
     "user": {
      "displayName": "",
      "userId": ""
     },
     "user_tz": 240
    },
    "id": "98ccda2c-0f4c-41c5-804d-2227cdf35aa7"
   },
   "outputs": [],
   "source": [
    "# Load the PDF and extract text\n",
    "pdf_reader = PdfReader(pdf_path)\n",
    "text = \"\"\n",
    "for page in pdf_reader.pages:\n",
    "    text += page.extract_text()"
   ]
  },
  {
   "cell_type": "code",
   "execution_count": 7,
   "id": "927a4c65-aa05-486c-8295-2f99673e7c20",
   "metadata": {
    "executionInfo": {
     "elapsed": 12,
     "status": "ok",
     "timestamp": 1715455756552,
     "user": {
      "displayName": "",
      "userId": ""
     },
     "user_tz": 240
    },
    "id": "927a4c65-aa05-486c-8295-2f99673e7c20"
   },
   "outputs": [],
   "source": [
    "# Split\n",
    "character_splitter = RecursiveCharacterTextSplitter(\n",
    "    separators=[\"\\n\\n\", \"\\n\", \". \", \" \", \"\"],\n",
    "    chunk_size=1000,\n",
    "    chunk_overlap=200\n",
    ")\n",
    "splits = character_splitter.split_text(text)"
   ]
  },
  {
   "cell_type": "code",
   "execution_count": 8,
   "id": "34e79382-dbb5-4e53-8d21-c4b4375d5084",
   "metadata": {},
   "outputs": [],
   "source": [
    "dense_documents = [Document(page_content=text, metadata={\"id\": str(i), \"source\": \"dense\"}) for i, text in enumerate(splits)]\n",
    "sparse_documents = [Document(page_content=text, metadata={\"id\": str(i), \"source\": \"sparse\"}) for i, text in enumerate(splits)]"
   ]
  },
  {
   "cell_type": "code",
   "execution_count": null,
   "id": "6b13568c-d633-464d-8c43-0d55f34cc8c1",
   "metadata": {
    "executionInfo": {
     "elapsed": 9471,
     "status": "ok",
     "timestamp": 1715455766015,
     "user": {
      "displayName": "",
      "userId": ""
     },
     "user_tz": 240
    },
    "id": "6b13568c-d633-464d-8c43-0d55f34cc8c1"
   },
   "outputs": [],
   "source": [
    "# Chroma Vector Store\n",
    "chroma_client = chromadb.Client()\n",
    "vectorstore = Chroma.from_documents(\n",
    "    documents=dense_documents,\n",
    "    embedding=embedding_function,\n",
    "    collection_name=collection_name,\n",
    "    client=chroma_client\n",
    ")"
   ]
  },
  {
   "cell_type": "code",
   "execution_count": null,
   "id": "6a399c41-0fb0-4a68-a220-88c4ab661e9e",
   "metadata": {},
   "outputs": [],
   "source": [
    "dense_retriever = vectorstore.as_retriever(search_kwargs={\"k\": 10})\n",
    "sparse_retriever = BM25Retriever.from_documents(sparse_documents, k=10)\n",
    "ensemble_retriever = EnsembleRetriever(retrievers=[dense_retriever, sparse_retriever], weights=[0.5, 0.5], c=0)"
   ]
  },
  {
   "cell_type": "code",
   "execution_count": null,
   "id": "dcfdd5e7-8cfb-4eee-a605-1ecaa5828e5c",
   "metadata": {},
   "outputs": [],
   "source": [
    "#### TOOLS ####"
   ]
  },
  {
   "cell_type": "code",
   "execution_count": null,
   "id": "ec1783c5-143b-4850-90eb-4a91769661d5",
   "metadata": {},
   "outputs": [],
   "source": [
    "# Tool #1: Web Search"
   ]
  },
  {
   "cell_type": "code",
   "execution_count": null,
   "id": "013b8878-3a43-43f7-ad8e-dab992aff860",
   "metadata": {},
   "outputs": [],
   "source": [
    "# Tavily Setup\n",
    "# set up your API key at https://tavily.com/\n",
    "# add the API key to your env.txt file\n",
    "from langchain_community.tools.tavily_search import TavilySearchResults\n",
    "\n",
    "_ = load_dotenv(dotenv_path='env.txt')\n",
    "os.environ['TAVILY_API_KEY'] = os.getenv('TAVILY_API_KEY')\n",
    "!export TAVILY_API_KEY=os.environ['TAVILY_API_KEY']\n",
    "web_search = TavilySearchResults(max_results=4)\n",
    "web_search_name = web_search.name"
   ]
  },
  {
   "cell_type": "code",
   "execution_count": null,
   "id": "bf02c540-c5bb-4af4-bb3d-3629e0ba0075",
   "metadata": {
    "scrolled": true
   },
   "outputs": [],
   "source": [
    "web_search.invoke(user_query)"
   ]
  },
  {
   "cell_type": "code",
   "execution_count": null,
   "id": "d88d9ab1-7496-42af-92d7-b12370160c35",
   "metadata": {},
   "outputs": [],
   "source": [
    "# Tool #2: Data Retriever"
   ]
  },
  {
   "cell_type": "code",
   "execution_count": null,
   "id": "cfb43c44-d394-4ad3-ba83-9270aba9ff35",
   "metadata": {},
   "outputs": [],
   "source": [
    "from langchain.tools.retriever import create_retriever_tool\n",
    "\n",
    "retriever_tool = create_retriever_tool(\n",
    "    ensemble_retriever,\n",
    "    \"retrieve_google_environmental_question_answers\",\n",
    "    \"Extensive information about Google environmental efforts from 2023.\",\n",
    ")\n",
    "retriever_tool_name = retriever_tool.name"
   ]
  },
  {
   "cell_type": "code",
   "execution_count": 16,
   "id": "d0f102d1-612d-43fa-b310-af07e748d182",
   "metadata": {},
   "outputs": [],
   "source": [
    "# Define tools for agent\n",
    "tools = [web_search, retriever_tool]"
   ]
  },
  {
   "cell_type": "code",
   "execution_count": 17,
   "id": "b07ad612-b59d-40a1-bbd7-c2fab4aed25b",
   "metadata": {},
   "outputs": [],
   "source": [
    "from typing import Annotated, Literal, Sequence, TypedDict\n",
    "from langchain_core.messages import BaseMessage\n",
    "from langgraph.graph.message import add_messages\n",
    "\n",
    "class AgentState(TypedDict):\n",
    "    messages: Annotated[Sequence[BaseMessage], add_messages]"
   ]
  },
  {
   "cell_type": "code",
   "execution_count": 18,
   "id": "1819a56d-b376-4055-be1c-b3fa4441ba1e",
   "metadata": {},
   "outputs": [],
   "source": [
    "from langchain_core.messages import HumanMessage\n",
    "from langchain_core.pydantic_v1 import BaseModel, Field\n",
    "from langgraph.prebuilt import tools_condition"
   ]
  },
  {
   "cell_type": "code",
   "execution_count": 19,
   "id": "ac0ef771-7a67-4469-915c-58239c3dd9ac",
   "metadata": {},
   "outputs": [],
   "source": [
    "generation_prompt = PromptTemplate.from_template(\n",
    "    \"\"\"You are an assistant for question-answering tasks. \n",
    "    Use the following pieces of retrieved context to answer \n",
    "    the question. If you don't know the answer, just say \n",
    "    that you don't know. Provide a thorough description to \n",
    "    fully answer the question, utilizing any relevant \n",
    "    information you find.\n",
    "    \n",
    "    Question: {question} \n",
    "    Context: {context} \n",
    "    \n",
    "    Answer:\"\"\"\n",
    ")"
   ]
  },
  {
   "cell_type": "code",
   "execution_count": 37,
   "id": "2cbbd119-fc4f-412b-8935-1616a7d847a6",
   "metadata": {},
   "outputs": [],
   "source": [
    "### Edges - determines whether the retrieved documents are relevant to the question.\n",
    "def score_documents(state) -> Literal[\"generate\", \"improve\"]:\n",
    "\n",
    "    print(\"---CHECK RELEVANCE---\")\n",
    "\n",
    "    # Data model - returns a binary score for the relevance check\n",
    "    class scoring(BaseModel):\n",
    "        binary_score: str = Field(description=\"Relevance score 'yes' or 'no'\")\n",
    "\n",
    "    # LLM with tool and validation\n",
    "    llm_with_tool = llm.with_structured_output(scoring)\n",
    "\n",
    "    # Prompt\n",
    "    prompt = PromptTemplate(\n",
    "        template=\"\"\"\n",
    "        You are assessing relevance of a retrieved document to a user question with a binary grade. \\n \n",
    "        \n",
    "        Here is the retrieved document: \\n\\n {context} \\n\\n\n",
    "        Here is the user question: {question} \\n\n",
    "        \n",
    "        If the document contains keyword(s) or semantic meaning related to the user question, grade it as relevant. \\n\n",
    "        Give a binary score 'yes' or 'no' score to indicate whether the document is relevant to the question.\n",
    "        \"\"\",\n",
    "        input_variables=[\"context\", \"question\"],\n",
    "    )\n",
    "\n",
    "    # Chain\n",
    "    chain = prompt | llm_with_tool\n",
    "\n",
    "    messages = state[\"messages\"]\n",
    "    last_message = messages[-1]\n",
    "    question = messages[0].content\n",
    "    docs = last_message.content\n",
    "\n",
    "    scored_result = chain.invoke({\"question\": question, \"context\": docs})\n",
    "    score = scored_result.binary_score\n",
    "\n",
    "    if score == \"yes\":\n",
    "        print(\"---DECISION: DOCS RELEVANT---\")\n",
    "        return \"generate\"\n",
    "\n",
    "    else:\n",
    "        print(\"---DECISION: DOCS NOT RELEVANT---\")\n",
    "        print(score)\n",
    "        return \"improve\""
   ]
  },
  {
   "cell_type": "code",
   "execution_count": 38,
   "id": "dadfd63e-c526-4897-a426-9f248fea3f27",
   "metadata": {},
   "outputs": [],
   "source": [
    "### Nodes"
   ]
  },
  {
   "cell_type": "code",
   "execution_count": 39,
   "id": "6f8d2842-590e-441a-bafd-e4f8370c1d89",
   "metadata": {},
   "outputs": [],
   "source": [
    "# Agent node - invokes the agent model to generate a response based on the current state. \n",
    "# Decision choices (given the question): retrieve using the retriever tool, web_search tool, both, or end.\n",
    "def agent(state):\n",
    "    print(\"---CALL AGENT---\")\n",
    "    messages = state[\"messages\"]\n",
    "    llm = agent_llm.bind_tools(tools)\n",
    "    response = llm.invoke(messages)\n",
    "    return {\"messages\": [response]} # Return list, will get added to existing list"
   ]
  },
  {
   "cell_type": "code",
   "execution_count": 40,
   "id": "587b5ea9-16d0-4f1e-b0a9-ecf481c8a209",
   "metadata": {},
   "outputs": [],
   "source": [
    "# Improve node - transform the query to produce a better question.\n",
    "def improve(state):\n",
    "    print(\"---TRANSFORM QUERY---\")\n",
    "    messages = state[\"messages\"]\n",
    "    question = messages[0].content\n",
    "\n",
    "    msg = [\n",
    "        HumanMessage(content=f\"\"\"\\n \n",
    "            Look at the input and try to reason about the underlying semantic intent / meaning. \\n \n",
    "            Here is the initial question:\n",
    "            \\n ------- \\n\n",
    "            {question} \n",
    "            \\n ------- \\n\n",
    "            Formulate an improved question: \n",
    "            \"\"\",\n",
    "        )\n",
    "    ]\n",
    "\n",
    "    # Scoring\n",
    "    response = llm.invoke(msg)\n",
    "    return {\"messages\": [response]}"
   ]
  },
  {
   "cell_type": "code",
   "execution_count": 41,
   "id": "bdfd3ec6-bc33-464b-a47c-f0054d2688ec",
   "metadata": {},
   "outputs": [],
   "source": [
    "# Generate node - generate answer\n",
    "def generate(state):\n",
    "    print(\"---GENERATE---\")\n",
    "    messages = state[\"messages\"]\n",
    "    question = messages[0].content\n",
    "    last_message = messages[-1]\n",
    "\n",
    "    question = messages[0].content\n",
    "    docs = last_message.content\n",
    "\n",
    "    # Chain\n",
    "    rag_chain = generation_prompt | llm | str_output_parser\n",
    "\n",
    "    # Run\n",
    "    response = rag_chain.invoke({\"context\": docs, \"question\": question})\n",
    "    return {\"messages\": [response]}"
   ]
  },
  {
   "cell_type": "code",
   "execution_count": 42,
   "id": "d4b36d98-a2ac-453e-b97e-db6cd2ce474c",
   "metadata": {},
   "outputs": [],
   "source": [
    "# Cyclical Graph Setup\n",
    "from langgraph.graph import END, StateGraph\n",
    "from langgraph.prebuilt import ToolNode\n",
    "\n",
    "# Define a new graph\n",
    "workflow = StateGraph(AgentState)\n",
    "\n",
    "# Define the nodes we will cycle between\n",
    "workflow.add_node(\"agent\", agent)  # agent\n",
    "retrieve = ToolNode(tools)\n",
    "workflow.add_node(\"retrieve\", retrieve)  # retrieval from web and or retriever\n",
    "workflow.add_node(\"improve\", improve)  # Improving the question for better retrieval\n",
    "workflow.add_node(\"generate\", generate)  # Generating a response after we know the documents are relevant\n",
    "\n",
    "# Call agent node to decide to retrieve or not\n",
    "workflow.set_entry_point(\"agent\")\n",
    "\n",
    "# Decide whether to retrieve (assess agent decision)\n",
    "workflow.add_conditional_edges(\"agent\", tools_condition, \n",
    "    # Translate the condition outputs to nodes in our graph\n",
    "    {\n",
    "        \"tools\": \"retrieve\",\n",
    "        END: END,\n",
    "    },\n",
    ")\n",
    "\n",
    "# Edges taken after the `action` node is called (assess agent decision)\n",
    "workflow.add_conditional_edges(\"retrieve\", score_documents)\n",
    "workflow.add_edge(\"generate\", END)\n",
    "workflow.add_edge(\"improve\", \"agent\")\n",
    "\n",
    "# Compile\n",
    "graph = workflow.compile()"
   ]
  },
  {
   "cell_type": "code",
   "execution_count": 43,
   "id": "44402c63-207d-4669-93ad-062abd9685e4",
   "metadata": {},
   "outputs": [
    {
     "data": {
      "image/jpeg": "[encoded data removed]",
      "text/plain": [
       "<IPython.core.display.Image object>"
      ]
     },
     "metadata": {},
     "output_type": "display_data"
    }
   ],
   "source": [
    "from IPython.display import Image, display\n",
    "\n",
    "try:\n",
    "    display(Image(graph.get_graph(xray=True).draw_mermaid_png()))\n",
    "except:\n",
    "    pass"
   ]
  },
  {
   "cell_type": "code",
   "execution_count": 44,
   "id": "1cca0689-04c2-45e4-abbf-bf29f96647ff",
   "metadata": {
    "scrolled": true
   },
   "outputs": [
    {
     "name": "stdout",
     "output_type": "stream",
     "text": [
      "---CALL AGENT---\n",
      "\"Output from node 'agent':\"\n",
      "'---'\n",
      "{ 'messages': [ AIMessage(content='', additional_kwargs={'tool_calls': [{'index': 0, 'id': 'call_46NqZuz3gN2F9IR5jq0MRdVm', 'function': {'arguments': '{\"query\":\"Google\\'s environmental initiatives\"}', 'name': 'retrieve_google_environmental_question_answers'}, 'type': 'function'}]}, response_metadata={'finish_reason': 'tool_calls'}, id='run-eba27f1e-1c32-4ffc-a161-55a32d645498-0', tool_calls=[{'name': 'retrieve_google_environmental_question_answers', 'args': {'query': \"Google's environmental initiatives\"}, 'id': 'call_46NqZuz3gN2F9IR5jq0MRdVm'}])]}\n",
      "'\\n---\\n'\n",
      "---CHECK RELEVANCE---\n",
      "---DECISION: DOCS RELEVANT---\n",
      "\"Output from node 'retrieve':\"\n",
      "'---'\n",
      "{ 'messages': [ ToolMessage(content='iMasons Climate AccordGoogle is a founding member and part of the governing body of the iMasons Climate Accord, a coalition united on carbon reduction in digital infrastructure.\\nReFEDIn 2022, to activate industry-wide change, Google provided anchor funding to kickstart the ReFED Catalytic Grant Fund, with the goal of accelerating and scaling food waste solutions.\\nThe Nature Conservancy (TNC)In 2022, Google supported three of the Nature Conservancy’s watershed projects in Chile and the United States, and Google.org supported a three-phased approach to catalyze active reforestation of kelp at impactful scales. Google.org also provided a grant to TNC to develop a machine-learning-powered timber-tracing API to stop deforestation in the Amazon at scale; a team of Google engineers is working full-time for six months with TNC to develop this product as part of the Google.org Fellowship Program.\\n\\nSustainable \\nconsumption of \\npublic goods (e.g., \\n“right to repair”)Google submitted comments to the European Commission’s public consultation regarding \\nthe promotion of repair and reuse of goods. We shared our views on the core principles to \\nconsider when introducing policy measures to promote repair and reuse horizontally, and for \\nsmartphones and tablets specifically.\\nBody of European \\nRegulators \\nfor Electronic \\nCommunications \\n(BEREC)Google responded to a questionnaire  by BEREC in view of the development of key performance \\nindicators to characterize the environmental impact of electronic communications, networks, \\ndevices, and services. We provided information about our environmental reporting practices \\nand suggestions to help identify which indicators would provide relevant environmental \\ninformation.\\nEngagement with coalitions and sustainability initiatives\\nRE-Source PlatformGoogle is a strategic partner and steering committee member of the RE-Source Platform, the\\n\\nThe opportunity we have through our products and \\nplatforms is reflected in our updated environmental sustainability strategy, which focuses on where we can make the most significant positive impact. Our work is organized around three key pillars: empowering individuals to take action, working together with our partners and customers, and operating our business\\xa0sustainably.\\nIn 2022, we reached our goal to help 1 billion people \\nmake more sustainable choices through our products. We achieved this by offering sustainability features like eco-friendly routing in Google Maps, energy efficiency features in Google Nest thermostats, and carbon emissions information in Google Flights. Looking ahead, our aspiration is to help individuals, cities, and other partners collectively reduce 1 gigaton of their carbon equivalent emissions annually by 2030.\\n\\u20092\\n\\nchemistry\\n• Governance and engagement - Risk management; Stakeholder engagement - Supplier \\nengagement\\nEngagement with external targets and initiatives related to sustainable \\nsupply chains • Wor king together - Our approach - Supporting partners - Cloud customers and  \\ncommercial partners\\n• Governance and engagement - PartnershipsC12. Engagement\\nGoals and targets Supplier environmental assessment-related targets• Introd uction - Targets and progress summary\\n• Oper ating sustainably - Circular economy - Our approach - Working with suppliers\\nPerformance indicators New suppliers that were screened using environmental criteria • Governance and engagement - Risk management C12. Engagement\\nSupplier renewable energy• Opera ting sustainably - Net-zero carbon - Our approach - Advancing carbon-free energy - \\nCFE inv estmentsC2. Risks and opportunities\\nNegative environmental impacts in the supply chain and actions taken• Oper ating sustainably - Circular economy - Supply chain\\n\\nthe United States for pre-owned products, such as used and refurbished products. The journey \\nahead\\nWhile a single individual’s actions may seem small, when \\nbillions of people have the tools to make more sustainable decisions, they add up to have a meaningful impact on their communities and the entire planet. \\nWe’re excited by the opportunity to enable climate and \\nenvironmental action far beyond Google’s direct impact, through information and innovation.\\nLEARN MORE\\n • Empowering with technology\\n • Google Maps eco-friendly routing\\n • Searching for sustainability with Google\\n • Supporting a clean energy future with Nest Renew\\n • The search for sustainability   20\\n2023 Environmental Report  Working \\ntogether\\nWe’re working together with our \\npartners and customers to advance technology for sustainabilityOur ambition\\nOur approach\\nSupporting partners\\nInvesting in breakthrough \\ninnovation\\nCreating ecosystems for \\ncollaboration\\nThe journey ahead\\n   21\\n2023 Environmental Report  Our ambition\\n\\nSuppli er engagementC12. Engagement\\nBoard and/or management oversight • Gove rnance and engagement C12. Engagement\\nManagement approachApproach to supply chain risk environmental assessments and audits • Gove rnance and engagement - Stakeholder engagement - Supplier engagement\\nIntegration of environmental factors within procurement policies  \\nand supplier contracts• Operating sustainably - Net-zero carbon - Our approach - Reducing carbon emissions -  \\nSupplier engagement\\n• Governance and engagement - Risk managementC12. Engagement\\nApproach to supplier capacity building, training, and corrective  \\naction plans• Operating sustainably - Net-zero carbon - Our approach - Reducing carbon emissions - \\nSupplier engagement; Circular economy - Our approach - Working with suppliers - Safer \\nchemistry\\n• Governance and engagement - Risk management; Stakeholder engagement - Supplier \\nengagement\\nEngagement with external targets and initiatives related to sustainable\\n\\nEmpowering individuals:  \\nA parking lot full of electric vehicles lined up outside a Google office, \\nplugged into charging stations.\\nWorking together:  \\nSatellite-derived Earth Engine image showing seasonal agricultural peaks \\nnear the Columbia and Snake Rivers in Washington state. The perfectly round fields are center pivot irrigated corn and wheat maturing in different months. Data source: Landsat 8, U.S. Geological Survey.\\nOperating sustainably:  \\nA view of our Bay View campus with the events center in the foreground \\nand a Google brandmark sculpture. (Photo: Iwan Baan)\\nNet-zero carbon:  \\nGolden Hills wind farm in California (43 MW for Google)\\nWater stewardship:  \\nOur Bay View campus, as seen from across its stormwater retention pond. (Photo: Iwan Baan)\\nCircular economy:  \\nA closeup of many small, broken circuit boards in a pile. Our approach\\n\\nC3. Business strategy Strategy: C\\nIntegration of climate-related risks and scenario analysis  \\ninto overall risk management and resiliency planning • Governance and engagement - Risk management - Climate-related risks C2. Risks and opportunities Risk management: C\\nIntegration of environmental risks in data center planning• Operating sustainably - Net-zero carbon - Our approach - Reducing carbon emissions -  \\nEnergy-efficient and low-carbon facilities - Data centersC2. Risks and opportunities Risk management: BTC-IM-130a.3\\nTC-SI-130a.3\\nValue chain engagement on climate change • Operating sustainably - Net-zero carbon - Reducing carbon emissions - Supplier engagement; \\nAdvancing carbon-free energy - CFE investmentsC12. Engagement\\nEngagement with external targets and initiatives related to net zero • Operating sustainably - Net-zero carbon - Advancing carbon-free energy -  \\nTransforming the energy system through partnerships and advocacy\\n\\nIn 2022, we audited a subset of our suppliers to verify \\ncompliance for the following environmental criteria: implementation of environmental management systems, environmental permits and reporting, product content restrictions, and resource efficiency, as well as management of hazardous substances, wastewater,  solid waste, and air emissions.\\nGooglers chat among indoor plants at our Pier 57 office in New York City.   79\\n2023 Environmental Report  Public policy and advocacy\\nWe know that strong public policy action is critical to \\ncreating prosperous, equitable, and resilient low-carbon economies around the world. \\nThe United Nations Framework Convention on Climate \\nChange (UNFCCC)’s 2015 Paris Agreement states that humanity must “keep global temperature rise this century well below 2°C above pre-industrial levels.”\\n\\u2009143 Google\\n\\nuse; Benefiting watersheds and communities - Our water replenishment projectsC3. Business strategyTC-IM-130a.2\\nTC-SI-130a.2\\nIntegration of environmental considerations into data center strategic planning• Opera ting sustainably - Water stewardship - Our approach - Advancing responsible water \\nuse - Data centersC3. Business strategyTC-IM-130a.3\\nTC-SI-130a.3\\nInteractions with water as a shared resource• Oper ating sustainably - Water stewardship - Our approach - Benefiting watersheds and \\ncomm unities\\nValue chain engagement on water-related issues• Oper ating sustainably - Water stewardship - Our approach - Advancing responsible water \\nuse - S upply chainC12. Engagement\\nEngagement with external targets and initiatives related to water stewardship• Operating  sustainably - Water stewardship - Our approach - Benefiting watersheds  \\nand communities; Supporting water security with technology\\n• Working together - Our approach - Supporting partners - Adaptation support  \\nfor communities\\n\\nWorld Business Council for Sustainable Development (WBCSD)Google has been a member of the WBCSD for several years and participates in a number of its initiatives. \\nWe’re a\\nctively involved in initiatives related to improving well-being for people and the planet, including  \\nshifting diets, consumer behavior changes, and regenerative agriculture. \\nWorld Resources Institute (WRI)Google has a 13-year long relationship with WRI for impact-focused collaboration. Some key projects include developing a near-real-time land cover dataset ( Dynamic World ), deforestation monitoring and alerts ( Global \\nForest Watch ), ending commodity-driven deforestation and accelerating restoration ( Forest Data Partnership ), \\nmeasuring and mitigating extreme heat ( supported by Google.org ), and educating stakeholders on 24/7 CFE.   84\\n2023 Environmental Report  Awards and recognition\\n2022 CDP Climate Change A List  \\nAlphabet has been named to CDP’s Climate Change A list,\\n\\nThrough our Product Restricted Substances Specification  \\nand Manufacturer Restricted Substances List, we restrict \\nmany hazardous substances and ensure our suppliers have processes in place to detect and prevent them from entering the manufacturing process. We’ve laid  a solid foundation  as we pursue our next level goals in \\nsafer chemistry.\\nIn 2022, we shared more details about our comprehensive \\nResponsible Chemical Management program  that \\nincludes assessments, guidance, and training resources to help suppliers better mitigate occupational and environmental risks related to the chemicals they use. Recent initiatives have included in-depth assessment programs with greater levels of detail and transparency, extensive supplier training and guidance materials to more proactively manage risk, and new industry partnerships that al\\nlow us to share best practices intended to  \\nadvance the industry at large.\\nWe continue to enroll suppliers into e-learning courses,\\n\\nProtection Agency (EPA), including 3 Google hosted events with EPA Administrator Michael \\nRegan on environmental justice, how Google products promote recycling within the circular \\neconomy, and using AI to identify lead pipes. At the U.S. Department of Energy, Nest continued \\ndialog with both the Loans Program Office about designation as an innovative product, and \\nOffice of the Under Secretary for Science and Innovation. We also met with the White House  \\non multiple projects, and received invitations to summits for our work on lead pipe reduction \\nand home electrification.U.S. SEC comments \\non proposed rule on \\nEnhancement and \\nStandardization of \\nClimate-Related \\nDisclosures for \\nInvestorsIn partnership with nine other peer technology companies, Google provided comments  to \\nthe Securities and Exchange Commission’s (SEC) proposed rule on enhanced climate-related \\ndisclosures. The comments state our support for regular and consistent reporting of climate-\\n\\n95 That’s why we’re supporting the development \\nand commercialization of emerging carbon removal technologies, as well as the development of initiatives to ensure the integrity and climate impact of CDR solutions. \\nStarting in 2022, we began funding the development of \\nnature-based and technology-based carbon removal solutions. At the World Economic Forum Annual Meeting in 2022, Google joined the First Movers Coalition . As a \\nchampion for the Carbon Dioxide Removal sector, Google committed to contract for durable and scalable net carbon dioxide removal to be achieved by the end of 2030.\\nIn 2022, we contributed $200 million towards a $925 million \\ntotal pledge to Frontier , an advanced market commitment\\n\\n2\\nAfter two years of condensed reporting, we’re sharing a deeper dive into our approach in one place in our 2023 Environmental Report. In 2022, we continued to make measurable progress in many key ways, such as:\\n• We enhanced and launched new sustainabilityproduct features , such as eco-friendly routing in\\nMaps, which is estimated to have helped preventmore than 1.2 million metric tons of carbon emissionsfrom launch through 2022—equivalent to takingapproximately 250,000 fuel-based cars off the roadfor a year.\\n\\u20093\\n• We expanded the availability of Google EarthEngine —which provides access to reliable, up-to-\\ndate insights on how our planet is changing—toinclude businesses and governments worldwide as anenterprise-grade service through Google Cloud.• We opened our new Bay View campus , which is\\nall-electric, net water-positive, restores over 17 acresof high-value nature, and incorporates the leadingprinciples of circular design.\\n\\n• Working together - Our approach - Supporting partners - Governments and \\nintergovernmental organizations - Environmental Insights Explorer; Adaptation support for \\ncommunities; Investing in breakthr ough innovation - Ocean ecosystemsC2. Risks and opportunities\\nC3. Business strategy\\nApproach to managing progress against internal and external  \\nnature-related targets and expectations• Oper ating sustainably - Nature and biodiversity - Our approach\\nEngagement with external targets and initiatives related to nature  \\nand biodiversity• Work ing together - Our approach - Supporting partners - Governments and \\nintergovernmental organizations; Researchers, academics, and NGOs\\n• Gove rnance and engagement - PartnershipsC15. Biodiversity\\nGoals and targets Nature- and biodiversity-related targets and progress against goals • Intro duction - Targets and progress summary C15. Biodiversity\\n\\nSince Google was founded, our efforts to mitigate climate \\nchange have started with our own operations, and we’ve worked hard to lead by example with the ultimate goal of driving larger systemic change. In our third decade of climate action, we’ll continue to take a science-based approach to our efforts, while sharing our own lessons and progress with others. \\nI joined Google eight years ago to lead our sustainability \\nefforts, and have witnessed our sense of urgency and ambition firsthand. We’re empowering individuals, governments, businesses, and other organizations to make decisions that can drive positive action for people and our planet.\\nThe opportunity we have through our products and\\n\\n2023 Environmental Report  Risk management\\nOur Enterprise Risk Management (ERM) team is responsible \\nfor identifying, assessing, and reporting risks related to the company’s operations, financial performance, and reputation. As with financial, operational, and strategic risks, the team assesses environmental risks as part of the company’s overall risk management framework. The risks and opportunities identified through this process support public disclosures and inform Google’s environmental sustainability strategy. Our Chief Sustainability Officer and sustainability teams work to address risks by identifying opportunities to reduce the company’s environmental impacts from its operations and value chain, and through improving climate resilience. \\nClimate-related \\nrisks\\nClimate-related risks and opportunities have long time\\n\\nof over 140 partner organizations.\\nThe Google.org Impact Challenge on Climate Innovation supports breakthrough projects that use data and technology to \\naccelerate climate action.\\nThe journey ahead\\nFrom measuring and monitoring changes on the Earth’s surface, improving forecast and prediction models for flooding and wildfires, optimizing operations, combining disparate data sources, and designing more efficient products, we continue to leverage our expertise in technology and apply the latest advancements to help solve global challenges.\\nWe believe that by working together with our partners and \\ncustomers, we can make a real difference in addressing the challenges of climate change and ecosystem degradation. LEARN MORE\\n• Data Commons\\n• Environmental Insights Explorer\\n• Google Cloud sustainability\\n• Google Earth Engine\\n• Sustainability-focused accelerators   31\\n2023 Environmental Report  Operating \\nsustainably\\nWe’re showing the way forward \\nthrough our own operationsOur ambition\\n\\nemphasize the importance of reforms that allow independent power producers to continue \\nto thrive and deploy new clean energy resources to meet customer demand. In particular, we \\nadvocate for greater transparency in non-RTO (Regional Transmission Organization) regions \\nand penalties for delays to interconnection studies.\\nU.S. Department of \\nEnergy comments \\non Clean Hydrogen \\nProduction StandardGoogle filed comments  on the Clean Hydrogen Production Standard draft guidance. In \\nparticular, we highlighted the need for strong quality criteria—hourly temporal correlation, \\ngeographic correlation, and additionality—to ensure that grid-based clean hydrogen is \\nproduced using clean electricity. \\nEngagement with coalitions and sustainability initiatives\\nSupporting the U.S. \\nState Department’s \\nClean Energy Demand \\nInitiative (CEDI)Google.org provided a philanthropic grant to support the establishment of the Secretariat of', name='retrieve_google_environmental_question_answers', id='53329b8d-28eb-403d-8fcd-2abbffdb8425', tool_call_id='call_46NqZuz3gN2F9IR5jq0MRdVm')]}\n",
      "'\\n---\\n'\n",
      "---GENERATE---\n",
      "\"Output from node 'generate':\"\n",
      "'---'\n",
      "{ 'messages': [ 'Google has a comprehensive and multifaceted approach to '\n",
      "                'environmental sustainability, encompassing various '\n",
      "                'initiatives aimed at reducing carbon emissions, promoting '\n",
      "                'sustainable practices, and leveraging technology for '\n",
      "                \"environmental benefits. Here are some key aspects of Google's \"\n",
      "                'environmental initiatives:\\n'\n",
      "                '\\n'\n",
      "                '1. **Carbon Reduction and Renewable Energy**:\\n'\n",
      "                '   - **iMasons Climate Accord**: Google is a founding member '\n",
      "                'and part of the governing body of this coalition focused on '\n",
      "                'reducing carbon emissions in digital infrastructure.\\n'\n",
      "                '   - **Net-Zero Carbon**: Google is committed to operating '\n",
      "                'sustainably with a focus on achieving net-zero carbon '\n",
      "                'emissions. This includes investments in carbon-free energy '\n",
      "                'and energy-efficient facilities, such as their all-electric, '\n",
      "                'net water-positive Bay View campus.\\n'\n",
      "                '\\n'\n",
      "                '2. **Sustainable Consumption and Circular Economy**:\\n'\n",
      "                '   - **Right to Repair**: Google has engaged with the '\n",
      "                'European Commission to promote the repair and reuse of goods, '\n",
      "                'particularly smartphones and tablets.\\n'\n",
      "                '   - **Circular Economy**: Google works with suppliers to '\n",
      "                'ensure environmental criteria are met, including the '\n",
      "                'management of hazardous substances and resource efficiency. '\n",
      "                'They also promote recycling and the use of refurbished '\n",
      "                'products.\\n'\n",
      "                '\\n'\n",
      "                '3. **Water Stewardship**:\\n'\n",
      "                '   - Google supports watershed projects and responsible water '\n",
      "                'use, including initiatives in Chile and the United States. '\n",
      "                'Their Bay View campus incorporates stormwater retention and '\n",
      "                'other water-positive features.\\n'\n",
      "                '\\n'\n",
      "                '4. **Food Waste Reduction**:\\n'\n",
      "                '   - **ReFED**: Google provided anchor funding to the ReFED '\n",
      "                'Catalytic Grant Fund to accelerate and scale food waste '\n",
      "                'solutions.\\n'\n",
      "                '\\n'\n",
      "                '5. **Reforestation and Biodiversity**:\\n'\n",
      "                '   - **The Nature Conservancy (TNC)**: Google supports '\n",
      "                'reforestation projects and the development of technology to '\n",
      "                'stop deforestation in the Amazon. They also work on kelp '\n",
      "                'reforestation and other biodiversity initiatives.\\n'\n",
      "                '\\n'\n",
      "                '6. **Technology and Data for Environmental Action**:\\n'\n",
      "                '   - **Google Earth Engine**: Provides access to data for '\n",
      "                'monitoring environmental changes.\\n'\n",
      "                '   - **Environmental Insights Explorer**: Helps cities and '\n",
      "                'organizations measure and reduce their carbon footprint.\\n'\n",
      "                '   - **Google Maps Eco-Friendly Routing**: Offers routes that '\n",
      "                'reduce carbon emissions, helping users make more sustainable '\n",
      "                'travel choices.\\n'\n",
      "                '\\n'\n",
      "                '7. **Public Policy and Advocacy**:\\n'\n",
      "                '   - Google engages in public policy advocacy to support '\n",
      "                'clean energy and climate action, including comments on the '\n",
      "                \"U.S. Department of Energy's Clean Hydrogen Production \"\n",
      "                'Standard and participation in the First Movers Coalition for '\n",
      "                'carbon dioxide removal.\\n'\n",
      "                '\\n'\n",
      "                '8. **Partnerships and Coalitions**:\\n'\n",
      "                '   - Google collaborates with various organizations, '\n",
      "                'including the World Business Council for Sustainable '\n",
      "                'Development (WBCSD) and the World Resources Institute (WRI), '\n",
      "                'to promote sustainability and address climate change.\\n'\n",
      "                '\\n'\n",
      "                '9. **Empowering Individuals and Communities**:\\n'\n",
      "                '   - Google aims to help 1 billion people make more '\n",
      "                'sustainable choices through their products by 2030. This '\n",
      "                'includes features like energy-efficient Google Nest '\n",
      "                'thermostats and carbon emissions information in Google '\n",
      "                'Flights.\\n'\n",
      "                '\\n'\n",
      "                \"Overall, Google's environmental initiatives are extensive and \"\n",
      "                'integrated into their business operations, product '\n",
      "                'development, and community engagement, reflecting their '\n",
      "                'commitment to sustainability and climate action.']}\n",
      "'\\n---\\n'\n"
     ]
    }
   ],
   "source": [
    "import pprint\n",
    "\n",
    "inputs = {\n",
    "    \"messages\": [\n",
    "        (\"user\", user_query),\n",
    "    ]\n",
    "}\n",
    "final_answer = ''\n",
    "for output in graph.stream(inputs):\n",
    "    for key, value in output.items():\n",
    "        pprint.pprint(f\"Output from node '{key}':\")\n",
    "        pprint.pprint(\"---\")\n",
    "        pprint.pprint(value, indent=2, width=80, depth=None)\n",
    "        final_answer = value\n",
    "    pprint.pprint(\"\\n---\\n\")"
   ]
  },
  {
   "cell_type": "code",
   "execution_count": 45,
   "id": "6c9ebf7a-ccd5-4946-8daf-985f8cd6736f",
   "metadata": {
    "scrolled": true
   },
   "outputs": [
    {
     "data": {
      "text/plain": [
       "\"Google has a comprehensive and multifaceted approach to environmental sustainability, encompassing various initiatives aimed at reducing carbon emissions, promoting sustainable practices, and leveraging technology for environmental benefits. Here are some key aspects of Google's environmental initiatives:\\n\\n1. **Carbon Reduction and Renewable Energy**:\\n   - **iMasons Climate Accord**: Google is a founding member and part of the governing body of this coalition focused on reducing carbon emissions in digital infrastructure.\\n   - **Net-Zero Carbon**: Google is committed to operating sustainably with a focus on achieving net-zero carbon emissions. This includes investments in carbon-free energy and energy-efficient facilities, such as their all-electric, net water-positive Bay View campus.\\n\\n2. **Sustainable Consumption and Circular Economy**:\\n   - **Right to Repair**: Google has engaged with the European Commission to promote the repair and reuse of goods, particularly smartphones and tablets.\\n   - **Circular Economy**: Google works with suppliers to ensure environmental criteria are met, including the management of hazardous substances and resource efficiency. They also promote recycling and the use of refurbished products.\\n\\n3. **Water Stewardship**:\\n   - Google supports watershed projects and responsible water use, including initiatives in Chile and the United States. Their Bay View campus incorporates stormwater retention and other water-positive features.\\n\\n4. **Food Waste Reduction**:\\n   - **ReFED**: Google provided anchor funding to the ReFED Catalytic Grant Fund to accelerate and scale food waste solutions.\\n\\n5. **Reforestation and Biodiversity**:\\n   - **The Nature Conservancy (TNC)**: Google supports reforestation projects and the development of technology to stop deforestation in the Amazon. They also work on kelp reforestation and other biodiversity initiatives.\\n\\n6. **Technology and Data for Environmental Action**:\\n   - **Google Earth Engine**: Provides access to data for monitoring environmental changes.\\n   - **Environmental Insights Explorer**: Helps cities and organizations measure and reduce their carbon footprint.\\n   - **Google Maps Eco-Friendly Routing**: Offers routes that reduce carbon emissions, helping users make more sustainable travel choices.\\n\\n7. **Public Policy and Advocacy**:\\n   - Google engages in public policy advocacy to support clean energy and climate action, including comments on the U.S. Department of Energy's Clean Hydrogen Production Standard and participation in the First Movers Coalition for carbon dioxide removal.\\n\\n8. **Partnerships and Coalitions**:\\n   - Google collaborates with various organizations, including the World Business Council for Sustainable Development (WBCSD) and the World Resources Institute (WRI), to promote sustainability and address climate change.\\n\\n9. **Empowering Individuals and Communities**:\\n   - Google aims to help 1 billion people make more sustainable choices through their products by 2030. This includes features like energy-efficient Google Nest thermostats and carbon emissions information in Google Flights.\\n\\nOverall, Google's environmental initiatives are extensive and integrated into their business operations, product development, and community engagement, reflecting their commitment to sustainability and climate action.\""
      ]
     },
     "execution_count": 45,
     "metadata": {},
     "output_type": "execute_result"
    }
   ],
   "source": [
    "final_answer['messages'][0]"
   ]
  },
  {
   "cell_type": "markdown",
   "id": "58da5c40-fdbc-458f-800f-4089d01b4030",
   "metadata": {},
   "source": [
    "*Formatted:*\n",
    "\n",
    "Google has a comprehensive and multifaceted approach to environmental sustainability, encompassing various initiatives aimed at reducing carbon emissions, promoting sustainable practices, and leveraging technology for environmental benefits. Here are some key aspects of Google's environmental initiatives:\n",
    "\n",
    "1. **Carbon Reduction and Renewable Energy**:  \n",
    "- **iMasons Climate Accord**: Google is a founding member and part of the governing body of this coalition focused on reducing carbon emissions in digital infrastructure.\n",
    "- **Net-Zero Carbon**: Google is committed to operating sustainably with a focus on achieving net-zero carbon emissions. This includes investments in carbon-free energy and energy-efficient facilities, such as their all-electric, net water-positive Bay View campus.\n",
    "\n",
    "2. **Sustainable Consumption and Circular Economy**:\n",
    "- **Right to Repair**: Google has engaged with the European Commission to promote the repair and reuse of goods, particularly smartphones and tablets.\n",
    "- **Circular Economy**: Google works with suppliers to ensure environmental criteria are met, including the management of hazardous substances and resource efficiency. They also promote recycling and the use of refurbished products.\n",
    "\n",
    "3. **Water Stewardship**:\n",
    "- Google supports watershed projects and responsible water use, including initiatives in Chile and the United States. Their Bay View campus incorporates stormwater retention and other water-positive features.\n",
    "\n",
    "4. **Food Waste Reduction**:\n",
    "- **ReFED**: Google provided anchor funding to the ReFED Catalytic Grant Fund to accelerate and scale food waste solutions.\n",
    "\n",
    "5. **Reforestation and Biodiversity**:\n",
    "- **The Nature Conservancy (TNC)**: Google supports reforestation projects and the development of technology to stop deforestation in the Amazon. They also work on kelp reforestation and other biodiversity initiatives.\n",
    "\n",
    "6. **Technology and Data for Environmental Action**:\n",
    "- **Google Earth Engine**: Provides access to data for monitoring environmental changes.\n",
    "- **Environmental Insights Explorer**: Helps cities and organizations measure and reduce their carbon footprint.\n",
    "- **Google Maps Eco-Friendly Routing**: Offers routes that reduce carbon emissions, helping users make more sustainable travel choices.\n",
    "\n",
    "7. **Public Policy and Advocacy**:\n",
    "- Google engages in public policy advocacy to support clean energy and climate action, including comments on the U.S. Department of Energy's Clean Hydrogen Production Standard and participation in the First Movers Coalition for carbon dioxide removal.\n",
    "\n",
    "8. **Partnerships and Coalitions**:\n",
    "- Google collaborates with various organizations, including the World Business Council for Sustainable Development (WBCSD) and the World Resources Institute (WRI), to promote sustainability and address climate change.\n",
    "\n",
    "9. **Empowering Individuals and Communities**:\n",
    "- Google aims to help 1 billion people make more sustainable choices through their products by 2030. This includes features like energy-efficient Google Nest thermostats and carbon emissions information in Google Flights.\n",
    "\n",
    "Overall, Google's environmental initiatives are extensive and integrated into their business operations, product development, and community engagement, reflecting their commitment to sustainability and climate action."
   ]
  },
  {
   "cell_type": "code",
   "execution_count": null,
   "id": "a7419cb3-32ed-4f19-8a2a-e27155f9a628",
   "metadata": {},
   "outputs": [],
   "source": []
  }
 ],
 "metadata": {
  "colab": {
   "name": "CHAPTER8-2_HYBRID-ENSEMBLE.ipynb",
   "provenance": []
  },
  "kernelspec": {
   "display_name": "Python 3 (ipykernel)",
   "language": "python",
   "name": "python3"
  },
  "language_info": {
   "codemirror_mode": {
    "name": "ipython",
    "version": 3
   },
   "file_extension": ".py",
   "mimetype": "text/x-python",
   "name": "python",
   "nbconvert_exporter": "python",
   "pygments_lexer": "ipython3",
   "version": "3.11.6"
  }
 },
 "nbformat": 4,
 "nbformat_minor": 5
}
