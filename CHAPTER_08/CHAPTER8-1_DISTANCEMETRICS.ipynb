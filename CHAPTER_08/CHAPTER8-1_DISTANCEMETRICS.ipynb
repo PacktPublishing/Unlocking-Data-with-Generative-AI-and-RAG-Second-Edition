{
 "cells": [
  {
   "cell_type": "code",
   "execution_count": null,
   "id": "PB5MNwqhemiu",
   "metadata": {
    "id": "PB5MNwqhemiu"
   },
   "outputs": [],
   "source": [
    "%pip install sentence_transformers -q --user"
   ]
  },
  {
   "cell_type": "code",
   "execution_count": null,
   "id": "IiFfv1pCIzn3KaWkZ9whQHB3",
   "metadata": {
    "executionInfo": {
     "elapsed": 5233,
     "status": "ok",
     "timestamp": 1715337400431,
     "user": {
      "displayName": "",
      "userId": ""
     },
     "user_tz": 240
    },
    "id": "IiFfv1pCIzn3KaWkZ9whQHB3",
    "tags": []
   },
   "outputs": [],
   "source": [
    "import numpy as np\n",
    "from sentence_transformers import SentenceTransformer"
   ]
  },
  {
   "cell_type": "code",
   "execution_count": null,
   "id": "cMkBO9Zrh8Yp",
   "metadata": {
    "colab": {
     "base_uri": "https://localhost:8080/"
    },
    "executionInfo": {
     "elapsed": 2180,
     "status": "ok",
     "timestamp": 1715337403525,
     "user": {
      "displayName": "",
      "userId": ""
     },
     "user_tz": 240
    },
    "id": "cMkBO9Zrh8Yp",
    "outputId": "1adb1afc-2d33-43f5-9e78-96be864e26f1"
   },
   "outputs": [],
   "source": [
    "model = SentenceTransformer('paraphrase-MiniLM-L3-v2') # try more powerful model: all-mpnet-base-v2"
   ]
  },
  {
   "cell_type": "code",
   "execution_count": null,
   "id": "G9UX2FUneDWq",
   "metadata": {
    "executionInfo": {
     "elapsed": 144,
     "status": "ok",
     "timestamp": 1715337404534,
     "user": {
      "displayName": "",
      "userId": ""
     },
     "user_tz": 240
    },
    "id": "G9UX2FUneDWq"
   },
   "outputs": [],
   "source": [
    "#Sentences we want to encode. Example:\n",
    "sentence = [\n",
    "    'This blanket has such a cozy temperature for me!',\n",
    "    'I am so much warmer and snug using this spread!',\n",
    "    'Taylor Swift was 34 years old in 2024.']"
   ]
  },
  {
   "cell_type": "code",
   "execution_count": null,
   "id": "1rD-yeh7eGl1",
   "metadata": {
    "colab": {
     "base_uri": "https://localhost:8080/"
    },
    "executionInfo": {
     "elapsed": 199,
     "status": "ok",
     "timestamp": 1715338234822,
     "user": {
      "displayName": "",
      "userId": ""
     },
     "user_tz": 240
    },
    "id": "1rD-yeh7eGl1",
    "outputId": "dea6be9c-dad1-4a22-c2bd-93172dec2794"
   },
   "outputs": [],
   "source": [
    "#Sentences are encoded by calling model.encode()\n",
    "embedding = model.encode(sentence)\n",
    "\n",
    "#Preview the embeddings\n",
    "print(embedding)\n",
    "embedding.shape"
   ]
  },
  {
   "cell_type": "code",
   "execution_count": null,
   "id": "wcfgqw4NjjMg",
   "metadata": {
    "executionInfo": {
     "elapsed": 215,
     "status": "ok",
     "timestamp": 1715338237387,
     "user": {
      "displayName": "",
      "userId": ""
     },
     "user_tz": 240
    },
    "id": "wcfgqw4NjjMg"
   },
   "outputs": [],
   "source": [
    "# Euclidean Distance function\n",
    "def euclidean_distance(vec1, vec2):\n",
    "    return np.linalg.norm(vec1 - vec2)"
   ]
  },
  {
   "cell_type": "code",
   "execution_count": null,
   "id": "8YRl-XeTjTqB",
   "metadata": {
    "colab": {
     "base_uri": "https://localhost:8080/"
    },
    "executionInfo": {
     "elapsed": 231,
     "status": "ok",
     "timestamp": 1715338238253,
     "user": {
      "displayName": "",
      "userId": ""
     },
     "user_tz": 240
    },
    "id": "8YRl-XeTjTqB",
    "outputId": "91262f53-c98f-482b-d6b6-e949714afd24"
   },
   "outputs": [],
   "source": [
    "# Euclidean Distance\n",
    "print(\"Euclidean Distance: Review 1 vs Review 2:\", euclidean_distance(embedding[0], embedding[1]))\n",
    "print(\"Euclidean Distance: Review 1 vs Random Comment:\", euclidean_distance(embedding[0], embedding[2]))\n",
    "print(\"Euclidean Distance: Review 2 vs Random Comment:\", euclidean_distance(embedding[1], embedding[2]))"
   ]
  },
  {
   "cell_type": "code",
   "execution_count": null,
   "id": "X8GFCtAwePEb",
   "metadata": {
    "colab": {
     "base_uri": "https://localhost:8080/"
    },
    "executionInfo": {
     "elapsed": 203,
     "status": "ok",
     "timestamp": 1715338240507,
     "user": {
      "displayName": "",
      "userId": ""
     },
     "user_tz": 240
    },
    "id": "X8GFCtAwePEb",
    "outputId": "ca1038a2-68fd-48a9-d429-462a1f5a29c4"
   },
   "outputs": [],
   "source": [
    "# Dot Product\n",
    "print(\"Dot Product: Review 1 vs Review 2:\", np.dot(embedding[0], embedding[1]))\n",
    "print(\"Dot Product: Review 1 vs Random Comment:\", np.dot(embedding[0], embedding[2]))\n",
    "print(\"Dot Product: Review 2 vs Random Comment:\", np.dot(embedding[1], embedding[2]))"
   ]
  },
  {
   "cell_type": "code",
   "execution_count": null,
   "id": "MlUlzG9afLjM",
   "metadata": {
    "executionInfo": {
     "elapsed": 147,
     "status": "ok",
     "timestamp": 1715338242502,
     "user": {
      "displayName": "",
      "userId": ""
     },
     "user_tz": 240
    },
    "id": "MlUlzG9afLjM"
   },
   "outputs": [],
   "source": [
    "# Cosine Distance function\n",
    "def cosine_distance(vec1,vec2):\n",
    "  cosine = 1 - abs((np.dot(vec1, vec2)/(np.linalg.norm(vec1)*np.linalg.norm(vec2))))\n",
    "  return cosine"
   ]
  },
  {
   "cell_type": "code",
   "execution_count": null,
   "id": "sikwgBLPeQU8",
   "metadata": {
    "colab": {
     "base_uri": "https://localhost:8080/"
    },
    "executionInfo": {
     "elapsed": 153,
     "status": "ok",
     "timestamp": 1715338243571,
     "user": {
      "displayName": "",
      "userId": ""
     },
     "user_tz": 240
    },
    "id": "sikwgBLPeQU8",
    "outputId": "f52eb3ba-1302-430c-be41-bce1edad97b2"
   },
   "outputs": [],
   "source": [
    "# Cosine Distance\n",
    "print(\"Cosine Distance: Review 1 vs Review 2:\", cosine_distance(embedding[0], embedding[1]))\n",
    "print(\"Cosine Distance: Review 1 vs Random Comment:\", cosine_distance(embedding[0], embedding[2]))\n",
    "print(\"Cosine Distance: Review 2 vs Random Comment:\", cosine_distance(embedding[1], embedding[2]))\n"
   ]
  }
 ],
 "metadata": {
  "colab": {
   "name": "CHAPTER8-DISTANCEMETRICS.ipynb",
   "provenance": []
  },
  "kernelspec": {
   "display_name": "Python 3 (ipykernel)",
   "language": "python",
   "name": "python3"
  },
  "language_info": {
   "codemirror_mode": {
    "name": "ipython",
    "version": 3
   },
   "file_extension": ".py",
   "mimetype": "text/x-python",
   "name": "python",
   "nbconvert_exporter": "python",
   "pygments_lexer": "ipython3",
   "version": "3.11.6"
  }
 },
 "nbformat": 4,
 "nbformat_minor": 5
}
