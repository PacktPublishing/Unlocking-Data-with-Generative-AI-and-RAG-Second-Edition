{
 "cells": [
  {
   "cell_type": "code",
   "execution_count": null,
   "id": "b00bc02f",
   "metadata": {},
   "outputs": [],
   "source": [
    "# Step 1: Install Required Dependencies\n",
    "%pip install langchain\n",
    "%pip install langgraph\n",
    "%pip install langchain-openai\n",
    "%pip install chromadb\n",
    "%pip install python-dotenv"
   ]
  },
  {
   "cell_type": "code",
   "execution_count": null,
   "id": "60903289",
   "metadata": {},
   "outputs": [],
   "source": [
    "# Step 2: Import Core Libraries and Configure Environment\n",
    "import os\n",
    "from dotenv import load_dotenv\n",
    "from langchain_openai import ChatOpenAI, OpenAIEmbeddings\n",
    "from langchain_core.prompts import PromptTemplate\n",
    "from langchain_core.output_parsers import StrOutputParser\n",
    "from langchain_community.vectorstores import Chroma\n",
    "from typing import TypedDict, Annotated, Sequence\n",
    "from langchain_core.messages import BaseMessage\n",
    "from langgraph.graph.message import add_messages\n",
    "from langgraph.graph import StateGraph, END\n",
    "\n",
    "load_dotenv(dotenv_path='env.txt')\n",
    "os.environ['OPENAI_API_KEY'] = os.getenv('OPENAI_API_KEY')\n",
    "llm = ChatOpenAI(model_name=\"gpt-4.1-mini\", temperature=0)\n",
    "embeddings = OpenAIEmbeddings()"
   ]
  },
  {
   "cell_type": "code",
   "execution_count": null,
   "id": "6c9a69a3",
   "metadata": {},
   "outputs": [],
   "source": [
    "# Step 3: Build the Basic Agent\n",
    "# Define Agent State with memory placeholders\n",
    "class AgentState(TypedDict):\n",
    "    \"\"\"State container for agent memory and messages\"\"\"\n",
    "    messages: Annotated[Sequence[BaseMessage], add_messages]\n",
    "    working_memory: dict  # Short-term context\n",
    "    episodic_recall: list  # Retrieved past experiences\n",
    "    semantic_facts: dict  # Retrieved knowledge\n",
    "\n",
    "# Initialize vector store for future memory storage\n",
    "vector_store = Chroma(\n",
    "    collection_name=\"agent_memory\",\n",
    "    embedding_function=embeddings,\n",
    "    persist_directory=\"./memory_store\"\n",
    ")\n",
    "\n",
    "# Create base prompt and chain\n",
    "base_prompt = PromptTemplate.from_template(\"\"\"\n",
    "You are a helpful assistant with memory capabilities.\n",
    "\n",
    "Current conversation:\n",
    "{messages}\n",
    "\n",
    "Please respond to the latest message.\n",
    "\"\"\")\n",
    "\n",
    "output_parser = StrOutputParser()\n",
    "\n",
    "# Define agent node\n",
    "def agent_node(state: AgentState) -> dict:\n",
    "    \"\"\"Core agent logic - processes messages and generates responses\"\"\"\n",
    "    messages = state[\"messages\"][-5:] if state[\"messages\"] else []\n",
    "    formatted_messages = \"\\n\".join([\n",
    "        f\"{msg.type}: {msg.content}\" \n",
    "        for msg in messages\n",
    "    ])\n",
    "    \n",
    "    chain = base_prompt | llm | output_parser\n",
    "    response = chain.invoke({\"messages\": formatted_messages})\n",
    "    \n",
    "    return {\"messages\": [(\"assistant\", response)]}\n",
    "\n",
    "# Build and compile the graph\n",
    "workflow = StateGraph(AgentState)\n",
    "workflow.add_node(\"agent\", agent_node)\n",
    "workflow.set_entry_point(\"agent\")\n",
    "workflow.add_edge(\"agent\", END)\n",
    "\n",
    "app = workflow.compile()"
   ]
  },
  {
   "cell_type": "code",
   "execution_count": 15,
   "id": "1e3032b5",
   "metadata": {},
   "outputs": [
    {
     "name": "stdout",
     "output_type": "stream",
     "text": [
      "Hello! The capital of France is Paris. How can I assist you further?\n"
     ]
    }
   ],
   "source": [
    "# Step 4: Test the Basic Agent\n",
    "# Test the agent\n",
    "test_input = {\n",
    "    \"messages\": [(\"user\", \"Hello! What's the capital of France?\")]\n",
    "}\n",
    "\n",
    "result = app.invoke(test_input)\n",
    "print(result[\"messages\"][-1].content)"
   ]
  }
 ],
 "metadata": {
  "kernelspec": {
   "display_name": "Python 3",
   "language": "python",
   "name": "python3"
  },
  "language_info": {
   "codemirror_mode": {
    "name": "ipython",
    "version": 3
   },
   "file_extension": ".py",
   "mimetype": "text/x-python",
   "name": "python",
   "nbconvert_exporter": "python",
   "pygments_lexer": "ipython3",
   "version": "3.11.12"
  }
 },
 "nbformat": 4,
 "nbformat_minor": 5
}
